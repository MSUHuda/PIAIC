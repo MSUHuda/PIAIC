{
 "cells": [
  {
   "cell_type": "code",
   "execution_count": 4,
   "metadata": {},
   "outputs": [
    {
     "name": "stdout",
     "output_type": "stream",
     "text": [
      "Enter the radius of the circle: 2\n",
      "\n",
      "The area of the circle is 12.566370614359172\n"
     ]
    }
   ],
   "source": [
    "#Area of a circle\n",
    "\n",
    "import math\n",
    "\n",
    "radius=int(input(\"Enter the radius of the circle: \"))\n",
    "pi=math.pi\n",
    "Area=pi*(radius**2)\n",
    "print(\"\\nThe area of the circle is \" +str(Area))"
   ]
  },
  {
   "cell_type": "code",
   "execution_count": 6,
   "metadata": {},
   "outputs": [
    {
     "name": "stdout",
     "output_type": "stream",
     "text": [
      "Enter a number to check: 5\n",
      "The number is positive\n"
     ]
    }
   ],
   "source": [
    "#Number Check\n",
    "\n",
    "num=int(input(\"Enter a number to check: \"))\n",
    "if num > 0:\n",
    "    print(\"The number is positive\")\n",
    "elif num == 0:\n",
    "    print(\"The number is zero\")\n",
    "else:\n",
    "    print(\"The number is negative\")"
   ]
  },
  {
   "cell_type": "code",
   "execution_count": 11,
   "metadata": {},
   "outputs": [
    {
     "name": "stdout",
     "output_type": "stream",
     "text": [
      "Please enter the first number: 25\n",
      "Please enter the second number: 5\n",
      "25.0 is completely divisible by5.0\n"
     ]
    }
   ],
   "source": [
    "#Division Check\n",
    "\n",
    "n1 = float(input(\"Please enter the first number: \"))\n",
    "n2 = float(input(\"Please enter the second number: \"))\n",
    "if n1 % n2 == 0:\n",
    "    print(str(n1) + \" is completely divisible by\" + str(n2))\n",
    "else:\n",
    "    print(str(n1) + \" is not completely divisible by\" + str(n2))"
   ]
  },
  {
   "cell_type": "code",
   "execution_count": 18,
   "metadata": {},
   "outputs": [
    {
     "name": "stdout",
     "output_type": "stream",
     "text": [
      "Enter any date in dd/mm/yy format: 1/1/19\n",
      "Enter any date in dd/mm/yy format: 10/1/19\n",
      "There are 9days between 1/1/19 & 10/1/19\n"
     ]
    }
   ],
   "source": [
    "#Day Calculator\n",
    "\n",
    "from datetime import datetime\n",
    "\n",
    "sdate = input(\"Enter any date in dd/mm/yy format: \")\n",
    "edate = input(\"Enter any date in dd/mm/yy format: \")\n",
    "a = datetime.strptime(sdate,'%d/%m/%y')\n",
    "b = datetime.strptime(edate,'%d/%m/%y')\n",
    "c = b - a\n",
    "print(\"There are \"+ str(c.days) + \"days between \" + sdate + \" & \" + edate)"
   ]
  },
  {
   "cell_type": "code",
   "execution_count": 25,
   "metadata": {},
   "outputs": [
    {
     "name": "stdout",
     "output_type": "stream",
     "text": [
      "Enter the radius of the sphere: 5.5\n",
      "Volume of the sphere is 696.9099703213358\n"
     ]
    }
   ],
   "source": [
    "#Volume of sphere\n",
    "\n",
    "import math\n",
    "\n",
    "rs = float(input(\"Enter the radius of the sphere: \"))\n",
    "pi = math.pi\n",
    "V = (4/3)*pi*(rs **3)\n",
    "print(\"Volume of the sphere is \" + str(V))"
   ]
  },
  {
   "cell_type": "code",
   "execution_count": 26,
   "metadata": {},
   "outputs": [
    {
     "name": "stdout",
     "output_type": "stream",
     "text": [
      "Enter the word: Samee\n",
      "How many repitions of word? 2\n",
      "The word is Samee and repeated 2 times: SameeSamee\n"
     ]
    }
   ],
   "source": [
    "#String repeated \"n\" times\n",
    "\n",
    "word = input(\"Enter the word: \")\n",
    "n = int(input(\"How many repitions of word? \"))\n",
    "if n>= 0:\n",
    "    print(\"The word is \" + word + \" and repeated \" + str(n) + \" times:\", word * n)\n",
    "else:\n",
    "    print(\"Please try again with a positive nnumber\")"
   ]
  },
  {
   "cell_type": "code",
   "execution_count": 27,
   "metadata": {},
   "outputs": [
    {
     "name": "stdout",
     "output_type": "stream",
     "text": [
      "Enter a number: 4786\n",
      "4786 is Even\n"
     ]
    }
   ],
   "source": [
    "#Even or odd\n",
    "\n",
    "num = int(input(\"Enter a number: \"))\n",
    "if (num % 2) == 0:\n",
    "   print(\"{0} is Even\".format(num))\n",
    "else:\n",
    "   print(\"{0} is Odd\".format(num))"
   ]
  },
  {
   "cell_type": "code",
   "execution_count": 29,
   "metadata": {},
   "outputs": [
    {
     "name": "stdout",
     "output_type": "stream",
     "text": [
      "Enter an english alphabet: r\n",
      "Character r isn't vowel\n"
     ]
    }
   ],
   "source": [
    "#Vowel check\n",
    "\n",
    "v = [\"a\", \"e\", \"i\", \"o\", \"u\"]\n",
    "alph = input(\"Enter an english alphabet: \")\n",
    "if alph in v:\n",
    "    print(\"Character\", alph, \"is a vowel\")\n",
    "else:\n",
    "    print(\"Character\", alph, \"isn't vowel\")"
   ]
  },
  {
   "cell_type": "code",
   "execution_count": 30,
   "metadata": {},
   "outputs": [
    {
     "name": "stdout",
     "output_type": "stream",
     "text": [
      "Enter length: 25\n",
      "Enter height: 52\n",
      "Area is 650.0\n"
     ]
    }
   ],
   "source": [
    "#Triangle Area\n",
    "\n",
    "length = float(input(\"Enter length: \"))\n",
    "height = float(input(\"Enter height: \"))\n",
    "area = (1/2)*length*height\n",
    "print(\"Area is \" + str(area))"
   ]
  },
  {
   "cell_type": "code",
   "execution_count": 36,
   "metadata": {},
   "outputs": [
    {
     "name": "stdout",
     "output_type": "stream",
     "text": [
      "Enter the principal amount: 25\n",
      "Enter the interest rate: 0.1\n",
      "Enter the time in years: 2\n",
      "Interest is30.250000000000004\n"
     ]
    }
   ],
   "source": [
    "#Interest\n",
    "\n",
    "p = float(input(\"Enter the principal amount: \"))\n",
    "r = float(input(\"Enter the interest rate: \"))\n",
    "t = float(input(\"Enter the time in years: \"))\n",
    "result = p * (pow((1 + r),t))\n",
    "print(\"Interest is \"+str(result))"
   ]
  },
  {
   "cell_type": "code",
   "execution_count": 40,
   "metadata": {},
   "outputs": [
    {
     "name": "stdout",
     "output_type": "stream",
     "text": [
      "Enter Co-ordinate x1: 5\n",
      "Enter Co-ordinate x2: 8\n",
      "Enter Co-ordinate y1: 8\n",
      "Enter Co-ordinate y2: 5\n",
      "Distance is 4.242640687119285\n"
     ]
    }
   ],
   "source": [
    "#Euclidean distance\n",
    "\n",
    "from math import sqrt\n",
    "\n",
    "x1 = int(input(\"Enter Co-ordinate x1: \"))\n",
    "x2 = int(input(\"Enter Co-ordinate x2: \"))\n",
    "y1 = int(input(\"Enter Co-ordinate y1: \"))\n",
    "y2 = int(input(\"Enter Co-ordinate y2: \"))\n",
    "a = (x1, y1)\n",
    "b = (x2, y2)\n",
    "dist = math.sqrt((x2-x1)**2+(y2-y1)**2)\n",
    "print(\"Distance is \" + str(dist))"
   ]
  },
  {
   "cell_type": "code",
   "execution_count": 42,
   "metadata": {},
   "outputs": [
    {
     "name": "stdout",
     "output_type": "stream",
     "text": [
      "Enter value in feet: 52\n",
      "52.0 ft is 1584.96cm\n"
     ]
    }
   ],
   "source": [
    "#Ft to cm\n",
    "\n",
    "feet = float(input(\"Enter value in feet: \"))\n",
    "cm = feet * 30.48\n",
    "print(str(feet) + \" ft is \" + str(cm) + \"cm\" )"
   ]
  },
  {
   "cell_type": "code",
   "execution_count": 46,
   "metadata": {},
   "outputs": [
    {
     "name": "stdout",
     "output_type": "stream",
     "text": [
      "Enter height in cm: 183\n",
      "Enter weight in kg: 66\n",
      "Your BMI is 0.0019707963809011916\n"
     ]
    }
   ],
   "source": [
    "#BMI Calculator\n",
    "\n",
    "height = float(input(\"Enter height in cm: \"))\n",
    "weight = float(input(\"Enter weight in kg: \"))\n",
    "bmi = weight/(height*height)\n",
    "print(\"Your BMI is \"+str(bmi))"
   ]
  },
  {
   "cell_type": "code",
   "execution_count": 47,
   "metadata": {},
   "outputs": [
    {
     "name": "stdout",
     "output_type": "stream",
     "text": [
      "Enter value of n: 8\n",
      "Sum of positive integers till 8 is 36\n"
     ]
    }
   ],
   "source": [
    "#Sum of n positive integers\n",
    "\n",
    "n = int(input(\"Enter value of n: \"))\n",
    "a = 0\n",
    "if n >= 0:\n",
    "    for x in range(n + 1):\n",
    "        a = a + x\n",
    "        x += 1\n",
    "print(\"Sum of positive integers till \" + str(n) + \" is \" + str(a))"
   ]
  },
  {
   "cell_type": "code",
   "execution_count": 52,
   "metadata": {},
   "outputs": [
    {
     "name": "stdout",
     "output_type": "stream",
     "text": [
      "Enter a number: 1234\n",
      "sum is 10\n"
     ]
    }
   ],
   "source": [
    "#Sum of the digits of a number\n",
    "a = input(\"Enter a number: \")\n",
    "digit = 0\n",
    "x = sum(int(digit) for digit in str(a))\n",
    "print (\"sum is \" +str(x))"
   ]
  },
  {
   "cell_type": "code",
   "execution_count": 63,
   "metadata": {},
   "outputs": [
    {
     "name": "stdout",
     "output_type": "stream",
     "text": [
      "Enter an integer\n",
      "None55\n",
      "110111\n"
     ]
    }
   ],
   "source": [
    "#Decimal to binary\n",
    "\n",
    "my_int = int(input(print(\"Enter an integer\")))\n",
    "bin(my_int)\n",
    "print(\"{0:b}\".format(my_int))"
   ]
  },
  {
   "cell_type": "code",
   "execution_count": 66,
   "metadata": {},
   "outputs": [
    {
     "name": "stdout",
     "output_type": "stream",
     "text": [
      "Enter a binary value\n",
      "None110111\n"
     ]
    },
    {
     "data": {
      "text/plain": [
       "55"
      ]
     },
     "execution_count": 66,
     "metadata": {},
     "output_type": "execute_result"
    }
   ],
   "source": [
    "#Binary to Decimal Converter\n",
    "\n",
    "binary_string = int(input(print(\"Enter a binary value\")))\n",
    "int(str(binary_string),2)"
   ]
  },
  {
   "cell_type": "code",
   "execution_count": 67,
   "metadata": {},
   "outputs": [
    {
     "name": "stdout",
     "output_type": "stream",
     "text": [
      "Enter text: Samee\n",
      "Vowels: 3\n",
      "Consonants: 2\n"
     ]
    }
   ],
   "source": [
    "#Vowel and consonants counter\n",
    "\n",
    "txt = input(\"Enter text: \")\n",
    "vowel = [\"a\", \"e\", \"i\", \"o\", \"u\"]\n",
    "vowels = 0\n",
    "consonants = 0\n",
    "for i in txt:\n",
    "    if i in vowel:\n",
    "        vowels += 1\n",
    "    else:\n",
    "        consonants += 1\n",
    "print(\"Vowels:\", vowels)\n",
    "print(\"Consonants:\", consonants)"
   ]
  },
  {
   "cell_type": "code",
   "execution_count": 68,
   "metadata": {},
   "outputs": [
    {
     "name": "stdout",
     "output_type": "stream",
     "text": [
      "Enter a word\n",
      "Nonecivic\n",
      "word is a palindrome\n"
     ]
    }
   ],
   "source": [
    "#Palindrome check\n",
    "\n",
    "n = input(print(\"Enter a word\"))\n",
    "\n",
    "if str(n) == str(n)[::-1]:\n",
    "    print(\"word is a palindrome\")\n",
    "else:\n",
    "    print(\"word isnt a palindrome\")\n"
   ]
  },
  {
   "cell_type": "code",
   "execution_count": 70,
   "metadata": {},
   "outputs": [
    {
     "name": "stdout",
     "output_type": "stream",
     "text": [
      "Enter text: Samee\n",
      "Alphabets = 5\n",
      "Numbers = 0\n",
      "Spaces = 0\n",
      "Special Characters = 0\n"
     ]
    }
   ],
   "source": [
    "#Counting Alphabets, numbers & special characters\n",
    "\n",
    "s = input(\"Enter text: \")\n",
    "alphabets = 0\n",
    "characters = 0\n",
    "spaces = 0\n",
    "numbers = 0\n",
    "for x in s:\n",
    "    if x.isalpha():\n",
    "        alphabets += 1\n",
    "    elif x.isspace():\n",
    "        spaces += 1\n",
    "    elif x.isnumber():\n",
    "        numbers += 1\n",
    "    else:\n",
    "        characters += 1\n",
    "print(\"Alphabets =\" ,alphabets)\n",
    "print(\"Numbers =\", numbers)\n",
    "print(\"Spaces =\", spaces)\n",
    "print(\"Special Characters =\", characters)"
   ]
  },
  {
   "cell_type": "code",
   "execution_count": null,
   "metadata": {},
   "outputs": [],
   "source": []
  }
 ],
 "metadata": {
  "kernelspec": {
   "display_name": "Python 3",
   "language": "python",
   "name": "python3"
  }
 },
 "nbformat": 4,
 "nbformat_minor": 2
}
