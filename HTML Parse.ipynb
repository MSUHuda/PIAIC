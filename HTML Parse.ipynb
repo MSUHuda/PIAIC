{
 "cells": [
  {
   "cell_type": "code",
   "execution_count": 12,
   "metadata": {
    "scrolled": true
   },
   "outputs": [
    {
     "name": "stdout",
     "output_type": "stream",
     "text": [
      "Encountered a start tag: html\n",
      "Encountered a start tag: head\n",
      "Encountered a start tag: title\n",
      "Encountered some data  : this is where the page title would go!\n",
      "Encountered an end tag : title\n",
      "Encountered a start tag: style\n",
      "Encountered an end tag : style\n",
      "Encountered an end tag : head\n",
      "Encountered a start tag: body\n",
      "Encountered a start tag: h1\n",
      "Encountered some data  : a header!\n",
      "Encountered an end tag : h1\n",
      "Encountered a start tag: p\n",
      "Encountered some data  : this is just a paragraph on the page\n",
      "Encountered an end tag : p\n",
      "Encountered a start tag: p\n",
      "Encountered some data  : this is just another paragraph on the page\n",
      "Encountered an end tag : p\n",
      "Encountered a start tag: p\n",
      "Encountered some data  : a third paragraph. insanity! \n",
      "Encountered a start tag: a\n",
      "Encountered some data  : with a link!\n",
      "Encountered an end tag : a\n",
      "Encountered an end tag : p\n",
      "Encountered an end tag : body\n",
      "Encountered an end tag : html\n",
      "Number of start tags in the file are: 10\n",
      "Number of end tags in the file are: 10\n",
      "Total tags in the file: 20\n"
     ]
    }
   ],
   "source": [
    "#Counting tags\n",
    "\n",
    "from html.parser import HTMLParser\n",
    "\n",
    "num_start_tags = 0\n",
    "num_end_tags = 0\n",
    "class MyHTMLParser(HTMLParser):\n",
    "    def handle_starttag(self, tag, attrs):\n",
    "        global num_start_tags\n",
    "        num_start_tags += 1\n",
    "        print(\"Encountered a start tag:\", tag)\n",
    "\n",
    "    def handle_endtag(self, tag):\n",
    "        global num_end_tags\n",
    "        num_end_tags += 1\n",
    "        print(\"Encountered an end tag :\", tag)\n",
    "\n",
    "    def handle_data(self, data):\n",
    "        print(\"Encountered some data  :\", data)\n",
    "\n",
    "parser = MyHTMLParser()\n",
    "parser.feed('<html><head><title>this is where the page title would go!</title><style>'\n",
    "'</style></head><body><h1>a header!</h1><p>this is just a paragraph on the page</p><p class=\"redtext\">this is just another paragraph on the page</p><p>a third paragraph. insanity! <a href=\"http://google.com\">with a link!</a></p></body></html>')\n",
    "print(\"Number of start tags in the file are:\",num_start_tags)\n",
    "print(\"Number of end tags in the file are:\",num_end_tags)\n",
    "total = num_start_tags+num_end_tags\n",
    "print(\"Total tags in the file:\", total)"
   ]
  },
  {
   "cell_type": "code",
   "execution_count": 20,
   "metadata": {},
   "outputs": [
    {
     "name": "stdout",
     "output_type": "stream",
     "text": [
      "Enter filename\n",
      "NoneC:\\Users\\MSUH\\Downloads\\sampletextfile.txt\n",
      "words in file are  38128\n",
      "lines in file are  9642\n",
      "tabs in file are  4855\n",
      "spaces in file are  59141\n",
      "para in file are  4821\n"
     ]
    }
   ],
   "source": [
    "#Count the number of items in a file\n",
    "\n",
    "filename = input(print(\"Enter filename\"))\n",
    "words = 0 \n",
    "lines = 0 \n",
    "spaces = 0 \n",
    "tabs = 0 \n",
    "paragraph = 0\n",
    "with open (filename, 'r', encoding = \"utf-8-sig\") as file:\n",
    "    for count in file:\n",
    "        words += len(count.split())\n",
    "        lines += len(count.split('\\n'))\n",
    "        tabs += len(count.split('\\t'))\n",
    "        spaces += len(count.split(' '))\n",
    "        paragraph += len(count.split('  \\n'))\n",
    "print (\"words in file are \", words)\n",
    "print (\"lines in file are \", lines)\n",
    "print (\"tabs in file are \", tabs)\n",
    "print (\"spaces in file are \", spaces)\n",
    "print (\"para in file are \", paragraph)"
   ]
  },
  {
   "cell_type": "code",
   "execution_count": null,
   "metadata": {},
   "outputs": [],
   "source": []
  }
 ],
 "metadata": {
  "kernelspec": {
   "display_name": "Python 3",
   "language": "python",
   "name": "python3"
  },
  "language_info": {
   "codemirror_mode": {
    "name": "ipython",
    "version": 3
   },
   "file_extension": ".py",
   "mimetype": "text/x-python",
   "name": "python",
   "nbconvert_exporter": "python",
   "pygments_lexer": "ipython3",
   "version": "3.7.3"
  }
 },
 "nbformat": 4,
 "nbformat_minor": 2
}
