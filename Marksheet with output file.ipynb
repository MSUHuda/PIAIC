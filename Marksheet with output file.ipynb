{
 "cells": [
  {
   "cell_type": "code",
   "execution_count": 1,
   "metadata": {},
   "outputs": [
    {
     "name": "stdout",
     "output_type": "stream",
     "text": [
      "Marksheet\n",
      "Please enter your nameSamee\n",
      "Name:Samee\n",
      "Roll Number:12345\n",
      "Class:12th\n",
      "please enter english marks:90\n",
      "please enter urdu marks:80\n",
      "please enter math marks:70\n",
      "please enter physics marks:90\n",
      "please enter compsc marks:90\n",
      "Total Marks = 500\n",
      "Obtained Marks:420\n",
      "Percentage:84.0 %\n",
      "Grade 'B'\n"
     ]
    }
   ],
   "source": [
    "import csv\n",
    "print (\"Marksheet\")\n",
    "name = str(input(\"Please enter your name\"))\n",
    "Roll_Num = \"12345\"\n",
    "Class = \"12th\"\n",
    "print (\"Name:\" +name)\n",
    "print (\"Roll Number:\" +Roll_Num)\n",
    "print (\"Class:\" +Class)\n",
    "Eng_marks = int(input(\"please enter english marks:\"))\n",
    "Urdu_marks = int(input(\"please enter urdu marks:\"))\n",
    "Math_marks = int(input(\"please enter math marks:\"))\n",
    "Phy_marks = int(input(\"please enter physics marks:\"))\n",
    "CompSc_marks = int(input(\"please enter compsc marks:\"))\n",
    "Total_Marks = 500\n",
    "print (\"Total Marks = 500\")\n",
    "obt_marks = int(Eng_marks + Urdu_marks + Math_marks + Phy_marks + CompSc_marks)\n",
    "print (\"Obtained Marks:\" +str(obt_marks))\n",
    "Perc = int(obt_marks)/(Total_Marks)*100\n",
    "print (\"Percentage:\" +str(Perc) +\" %\")\n",
    "if Perc>= 95:\n",
    "    print (\"Grade 'A*'\")\n",
    "elif Perc>=85 and Perc<=94:\n",
    "    print (\"Grade 'A'\")\n",
    "elif Perc>=75 and Perc<=84:\n",
    "    print (\"Grade 'B'\")\n",
    "elif Perc>=65 and Perc<=74:\n",
    "    print (\"Grade 'C'\")\n",
    "elif Perc>=55 and Perc<=64:\n",
    "    print (\"Grade 'D'\")\n",
    "elif Perc>=45 and Perc<=54:\n",
    "    print (\"Grade 'E'\")\n",
    "elif Perc<=44:\n",
    "    print (\"Grade 'F'\")\n",
    "userdata = [name, Roll_Num, Class, Eng_marks, Urdu_marks, Math_marks, Phy_marks, CompSc_marks, Total_Marks, obt_marks, Perc]\n",
    "with open(\"Marksheet.csv\", \"w\", newline=\"\") as f:\n",
    "    file_handler = csv.writer(f, delimiter=',')    \n",
    "    file_handler.writerow([\"Name\",\"Roll_Num\",\"Class\",\"English\",\"Urdu\",\"Math\",\"Physics\",\"CompSc\",\"Obtained Marks\",\"Total Marks\",\"Percentage\"])\n",
    "    file_handler.writerow(userdata)"
   ]
  },
  {
   "cell_type": "code",
   "execution_count": null,
   "metadata": {},
   "outputs": [],
   "source": []
  }
 ],
 "metadata": {
  "kernelspec": {
   "display_name": "Python 3",
   "language": "python",
   "name": "python3"
  },
  "language_info": {
   "codemirror_mode": {
    "name": "ipython",
    "version": 3
   },
   "file_extension": ".py",
   "mimetype": "text/x-python",
   "name": "python",
   "nbconvert_exporter": "python",
   "pygments_lexer": "ipython3",
   "version": "3.7.3"
  }
 },
 "nbformat": 4,
 "nbformat_minor": 2
}
